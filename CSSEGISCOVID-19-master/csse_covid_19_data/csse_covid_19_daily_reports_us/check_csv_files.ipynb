{
 "cells": [
  {
   "cell_type": "code",
   "execution_count": 1,
   "metadata": {},
   "outputs": [],
   "source": [
    "import pandas as pd"
   ]
  },
  {
   "cell_type": "code",
   "execution_count": 2,
   "metadata": {},
   "outputs": [],
   "source": [
    "us = pd.read_csv('09-11-2020.csv')"
   ]
  },
  {
   "cell_type": "code",
   "execution_count": 3,
   "metadata": {},
   "outputs": [
    {
     "data": {
      "text/html": [
       "<div>\n",
       "<style scoped>\n",
       "    .dataframe tbody tr th:only-of-type {\n",
       "        vertical-align: middle;\n",
       "    }\n",
       "\n",
       "    .dataframe tbody tr th {\n",
       "        vertical-align: top;\n",
       "    }\n",
       "\n",
       "    .dataframe thead th {\n",
       "        text-align: right;\n",
       "    }\n",
       "</style>\n",
       "<table border=\"1\" class=\"dataframe\">\n",
       "  <thead>\n",
       "    <tr style=\"text-align: right;\">\n",
       "      <th></th>\n",
       "      <th>Province_State</th>\n",
       "      <th>Country_Region</th>\n",
       "      <th>Last_Update</th>\n",
       "      <th>Lat</th>\n",
       "      <th>Long_</th>\n",
       "      <th>Confirmed</th>\n",
       "      <th>Deaths</th>\n",
       "      <th>Recovered</th>\n",
       "      <th>Active</th>\n",
       "      <th>FIPS</th>\n",
       "      <th>Incident_Rate</th>\n",
       "      <th>People_Tested</th>\n",
       "      <th>People_Hospitalized</th>\n",
       "      <th>Mortality_Rate</th>\n",
       "      <th>UID</th>\n",
       "      <th>ISO3</th>\n",
       "      <th>Testing_Rate</th>\n",
       "      <th>Hospitalization_Rate</th>\n",
       "    </tr>\n",
       "  </thead>\n",
       "  <tbody>\n",
       "    <tr>\n",
       "      <th>0</th>\n",
       "      <td>Alabama</td>\n",
       "      <td>US</td>\n",
       "      <td>2020-09-12 04:30:24</td>\n",
       "      <td>32.3182</td>\n",
       "      <td>-86.9023</td>\n",
       "      <td>136703</td>\n",
       "      <td>2333</td>\n",
       "      <td>54223.0</td>\n",
       "      <td>80147.0</td>\n",
       "      <td>1.0</td>\n",
       "      <td>2788.044914</td>\n",
       "      <td>1010922.0</td>\n",
       "      <td>NaN</td>\n",
       "      <td>1.706619</td>\n",
       "      <td>84000001</td>\n",
       "      <td>USA</td>\n",
       "      <td>20617.659746</td>\n",
       "      <td>NaN</td>\n",
       "    </tr>\n",
       "    <tr>\n",
       "      <th>1</th>\n",
       "      <td>Alaska</td>\n",
       "      <td>US</td>\n",
       "      <td>2020-09-12 04:30:24</td>\n",
       "      <td>61.3707</td>\n",
       "      <td>-152.4044</td>\n",
       "      <td>6104</td>\n",
       "      <td>43</td>\n",
       "      <td>2359.0</td>\n",
       "      <td>3702.0</td>\n",
       "      <td>2.0</td>\n",
       "      <td>834.398431</td>\n",
       "      <td>394586.0</td>\n",
       "      <td>NaN</td>\n",
       "      <td>0.704456</td>\n",
       "      <td>84000002</td>\n",
       "      <td>USA</td>\n",
       "      <td>53938.718739</td>\n",
       "      <td>NaN</td>\n",
       "    </tr>\n",
       "    <tr>\n",
       "      <th>2</th>\n",
       "      <td>American Samoa</td>\n",
       "      <td>US</td>\n",
       "      <td>2020-09-12 04:30:24</td>\n",
       "      <td>-14.2710</td>\n",
       "      <td>-170.1320</td>\n",
       "      <td>0</td>\n",
       "      <td>0</td>\n",
       "      <td>NaN</td>\n",
       "      <td>0.0</td>\n",
       "      <td>60.0</td>\n",
       "      <td>0.000000</td>\n",
       "      <td>1571.0</td>\n",
       "      <td>NaN</td>\n",
       "      <td>NaN</td>\n",
       "      <td>16</td>\n",
       "      <td>ASM</td>\n",
       "      <td>2823.457522</td>\n",
       "      <td>NaN</td>\n",
       "    </tr>\n",
       "    <tr>\n",
       "      <th>3</th>\n",
       "      <td>Arizona</td>\n",
       "      <td>US</td>\n",
       "      <td>2020-09-12 04:30:24</td>\n",
       "      <td>33.7298</td>\n",
       "      <td>-111.4312</td>\n",
       "      <td>207523</td>\n",
       "      <td>5288</td>\n",
       "      <td>32472.0</td>\n",
       "      <td>169763.0</td>\n",
       "      <td>4.0</td>\n",
       "      <td>2851.093125</td>\n",
       "      <td>1279424.0</td>\n",
       "      <td>NaN</td>\n",
       "      <td>2.548151</td>\n",
       "      <td>84000004</td>\n",
       "      <td>USA</td>\n",
       "      <td>17577.603306</td>\n",
       "      <td>NaN</td>\n",
       "    </tr>\n",
       "    <tr>\n",
       "      <th>4</th>\n",
       "      <td>Arkansas</td>\n",
       "      <td>US</td>\n",
       "      <td>2020-09-12 04:30:24</td>\n",
       "      <td>34.9697</td>\n",
       "      <td>-92.3731</td>\n",
       "      <td>67911</td>\n",
       "      <td>953</td>\n",
       "      <td>61245.0</td>\n",
       "      <td>5713.0</td>\n",
       "      <td>5.0</td>\n",
       "      <td>2250.344953</td>\n",
       "      <td>798358.0</td>\n",
       "      <td>NaN</td>\n",
       "      <td>1.403307</td>\n",
       "      <td>84000005</td>\n",
       "      <td>USA</td>\n",
       "      <td>26454.932129</td>\n",
       "      <td>NaN</td>\n",
       "    </tr>\n",
       "  </tbody>\n",
       "</table>\n",
       "</div>"
      ],
      "text/plain": [
       "   Province_State Country_Region          Last_Update      Lat     Long_  \\\n",
       "0         Alabama             US  2020-09-12 04:30:24  32.3182  -86.9023   \n",
       "1          Alaska             US  2020-09-12 04:30:24  61.3707 -152.4044   \n",
       "2  American Samoa             US  2020-09-12 04:30:24 -14.2710 -170.1320   \n",
       "3         Arizona             US  2020-09-12 04:30:24  33.7298 -111.4312   \n",
       "4        Arkansas             US  2020-09-12 04:30:24  34.9697  -92.3731   \n",
       "\n",
       "   Confirmed  Deaths  Recovered    Active  FIPS  Incident_Rate  People_Tested  \\\n",
       "0     136703    2333    54223.0   80147.0   1.0    2788.044914      1010922.0   \n",
       "1       6104      43     2359.0    3702.0   2.0     834.398431       394586.0   \n",
       "2          0       0        NaN       0.0  60.0       0.000000         1571.0   \n",
       "3     207523    5288    32472.0  169763.0   4.0    2851.093125      1279424.0   \n",
       "4      67911     953    61245.0    5713.0   5.0    2250.344953       798358.0   \n",
       "\n",
       "   People_Hospitalized  Mortality_Rate       UID ISO3  Testing_Rate  \\\n",
       "0                  NaN        1.706619  84000001  USA  20617.659746   \n",
       "1                  NaN        0.704456  84000002  USA  53938.718739   \n",
       "2                  NaN             NaN        16  ASM   2823.457522   \n",
       "3                  NaN        2.548151  84000004  USA  17577.603306   \n",
       "4                  NaN        1.403307  84000005  USA  26454.932129   \n",
       "\n",
       "   Hospitalization_Rate  \n",
       "0                   NaN  \n",
       "1                   NaN  \n",
       "2                   NaN  \n",
       "3                   NaN  \n",
       "4                   NaN  "
      ]
     },
     "execution_count": 3,
     "metadata": {},
     "output_type": "execute_result"
    }
   ],
   "source": [
    "us.head()"
   ]
  },
  {
   "cell_type": "code",
   "execution_count": 5,
   "metadata": {},
   "outputs": [
    {
     "data": {
      "text/plain": [
       "(58, 18)"
      ]
     },
     "execution_count": 5,
     "metadata": {},
     "output_type": "execute_result"
    }
   ],
   "source": [
    "us.shape"
   ]
  },
  {
   "cell_type": "code",
   "execution_count": 4,
   "metadata": {},
   "outputs": [
    {
     "data": {
      "text/plain": [
       "Province_State           0\n",
       "Country_Region           0\n",
       "Last_Update              0\n",
       "Lat                      2\n",
       "Long_                    2\n",
       "Confirmed                0\n",
       "Deaths                   0\n",
       "Recovered               10\n",
       "Active                   0\n",
       "FIPS                     0\n",
       "Incident_Rate            2\n",
       "People_Tested            2\n",
       "People_Hospitalized     58\n",
       "Mortality_Rate           1\n",
       "UID                      0\n",
       "ISO3                     0\n",
       "Testing_Rate             2\n",
       "Hospitalization_Rate    58\n",
       "dtype: int64"
      ]
     },
     "execution_count": 4,
     "metadata": {},
     "output_type": "execute_result"
    }
   ],
   "source": [
    "us.isna().sum()"
   ]
  },
  {
   "cell_type": "code",
   "execution_count": 6,
   "metadata": {},
   "outputs": [],
   "source": [
    "us.to_csv('JH_US_09_11_2020.csv')"
   ]
  },
  {
   "cell_type": "code",
   "execution_count": null,
   "metadata": {},
   "outputs": [],
   "source": []
  }
 ],
 "metadata": {
  "kernelspec": {
   "display_name": "Python 3",
   "language": "python",
   "name": "python3"
  },
  "language_info": {
   "codemirror_mode": {
    "name": "ipython",
    "version": 3
   },
   "file_extension": ".py",
   "mimetype": "text/x-python",
   "name": "python",
   "nbconvert_exporter": "python",
   "pygments_lexer": "ipython3",
   "version": "3.7.6"
  }
 },
 "nbformat": 4,
 "nbformat_minor": 4
}
